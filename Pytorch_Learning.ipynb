{
  "nbformat": 4,
  "nbformat_minor": 0,
  "metadata": {
    "colab": {
      "name": "Untitled2.ipynb",
      "provenance": [],
      "authorship_tag": "ABX9TyNbnlhAxQ2QxKn9oA2hEi6J",
      "include_colab_link": true
    },
    "kernelspec": {
      "name": "python3",
      "display_name": "Python 3"
    }
  },
  "cells": [
    {
      "cell_type": "markdown",
      "metadata": {
        "id": "view-in-github",
        "colab_type": "text"
      },
      "source": [
        "<a href=\"https://colab.research.google.com/github/guthiLatha/ML/blob/master/Pytorch_Learning.ipynb\" target=\"_parent\"><img src=\"https://colab.research.google.com/assets/colab-badge.svg\" alt=\"Open In Colab\"/></a>"
      ]
    },
    {
      "cell_type": "code",
      "metadata": {
        "id": "widHCfMKco-j",
        "colab_type": "code",
        "colab": {
          "base_uri": "https://localhost:8080/",
          "height": 1000
        },
        "outputId": "b152375a-8bef-4f45-cbfc-b9add106b16e"
      },
      "source": [
        "!pip install atspy"
      ],
      "execution_count": null,
      "outputs": [
        {
          "output_type": "stream",
          "text": [
            "Requirement already satisfied: atspy in /usr/local/lib/python3.6/dist-packages (0.2.8)\n",
            "Requirement already satisfied: fbprophet==0.5 in /usr/local/lib/python3.6/dist-packages (from atspy) (0.5)\n",
            "Requirement already satisfied: cachetools==4.0.0 in /usr/local/lib/python3.6/dist-packages (from atspy) (4.0.0)\n",
            "Requirement already satisfied: pydantic==1.4 in /usr/local/lib/python3.6/dist-packages (from atspy) (1.4)\n",
            "Requirement already satisfied: pmdarima==1.5.2 in /usr/local/lib/python3.6/dist-packages (from atspy) (1.5.2)\n",
            "Requirement already satisfied: scikit-learn==0.22.1 in /usr/local/lib/python3.6/dist-packages (from atspy) (0.22.1)\n",
            "Requirement already satisfied: tblib==1.6.0 in /usr/local/lib/python3.6/dist-packages (from atspy) (1.6.0)\n",
            "Requirement already satisfied: tsfresh==0.14.1 in /usr/local/lib/python3.6/dist-packages (from atspy) (0.14.1)\n",
            "Requirement already satisfied: tqdm==4.28.1 in /usr/local/lib/python3.6/dist-packages (from atspy) (4.28.1)\n",
            "Requirement already satisfied: tweepy==3.6.0 in /usr/local/lib/python3.6/dist-packages (from atspy) (3.6.0)\n",
            "Requirement already satisfied: lightgbm==2.2.3 in /usr/local/lib/python3.6/dist-packages (from atspy) (2.2.3)\n",
            "Requirement already satisfied: gunicorn==20.0.4 in /usr/local/lib/python3.6/dist-packages (from atspy) (20.0.4)\n",
            "Requirement already satisfied: tensorflow==1.15.0 in /usr/local/lib/python3.6/dist-packages (from atspy) (1.15.0)\n",
            "Requirement already satisfied: tflearn==0.3.2 in /usr/local/lib/python3.6/dist-packages (from atspy) (0.3.2)\n",
            "Requirement already satisfied: numpy==1.17.4 in /usr/local/lib/python3.6/dist-packages (from atspy) (1.17.4)\n",
            "Requirement already satisfied: scipy==1.4.1 in /usr/local/lib/python3.6/dist-packages (from atspy) (1.4.1)\n",
            "Requirement already satisfied: seaborn==0.9.1 in /usr/local/lib/python3.6/dist-packages (from atspy) (0.9.1)\n",
            "Requirement already satisfied: matplotlib==3.1.2 in /usr/local/lib/python3.6/dist-packages (from atspy) (3.1.2)\n",
            "Requirement already satisfied: seasonal==0.3.1 in /usr/local/lib/python3.6/dist-packages (from atspy) (0.3.1)\n",
            "Requirement already satisfied: DateTime==4.3 in /usr/local/lib/python3.6/dist-packages (from atspy) (4.3)\n",
            "Requirement already satisfied: Keras==2.2.5 in /usr/local/lib/python3.6/dist-packages (from atspy) (2.2.5)\n",
            "Requirement already satisfied: sklearn==0.0 in /usr/local/lib/python3.6/dist-packages (from atspy) (0.0)\n",
            "Requirement already satisfied: typing==3.6.6 in /usr/local/lib/python3.6/dist-packages (from atspy) (3.6.6)\n",
            "Requirement already satisfied: sympy==1.1.1 in /usr/local/lib/python3.6/dist-packages (from atspy) (1.1.1)\n",
            "Requirement already satisfied: Cython==0.29.14 in /usr/local/lib/python3.6/dist-packages (from atspy) (0.29.14)\n",
            "Requirement already satisfied: mxnet-cu100==1.4.1 in /usr/local/lib/python3.6/dist-packages (from atspy) (1.4.1)\n",
            "Requirement already satisfied: psutil==5.4.8 in /usr/local/lib/python3.6/dist-packages (from atspy) (5.4.8)\n",
            "Requirement already satisfied: torch==1.4.0 in /usr/local/lib/python3.6/dist-packages (from atspy) (1.4.0)\n",
            "Requirement already satisfied: psycopg2==2.7.6.1 in /usr/local/lib/python3.6/dist-packages (from atspy) (2.7.6.1)\n",
            "Requirement already satisfied: easydict==1.9 in /usr/local/lib/python3.6/dist-packages (from atspy) (1.9)\n",
            "Requirement already satisfied: pandas==0.25.3 in /usr/local/lib/python3.6/dist-packages (from atspy) (0.25.3)\n",
            "Requirement already satisfied: xlrd==1.1.0 in /usr/local/lib/python3.6/dist-packages (from atspy) (1.1.0)\n",
            "Requirement already satisfied: dataclasses in /usr/local/lib/python3.6/dist-packages (from atspy) (0.7)\n",
            "Requirement already satisfied: tbats==1.0.9 in /usr/local/lib/python3.6/dist-packages (from atspy) (1.0.9)\n",
            "Requirement already satisfied: nbeats-pytorch==1.3.0 in /usr/local/lib/python3.6/dist-packages (from atspy) (1.3.0)\n",
            "Requirement already satisfied: statsmodels==0.10.2 in /usr/local/lib/python3.6/dist-packages (from atspy) (0.10.2)\n",
            "Requirement already satisfied: numba==0.47.0 in /usr/local/lib/python3.6/dist-packages (from atspy) (0.47.0)\n",
            "Requirement already satisfied: pip-tools==4.2.0 in /usr/local/lib/python3.6/dist-packages (from atspy) (4.2.0)\n",
            "Requirement already satisfied: numexpr==2.7.1 in /usr/local/lib/python3.6/dist-packages (from atspy) (2.7.1)\n",
            "Requirement already satisfied: decorator==4.4.1 in /usr/local/lib/python3.6/dist-packages (from atspy) (4.4.1)\n",
            "Requirement already satisfied: typing-extensions==3.6.6 in /usr/local/lib/python3.6/dist-packages (from atspy) (3.6.6)\n",
            "Requirement already satisfied: gluonts==0.4.2 in /usr/local/lib/python3.6/dist-packages (from atspy) (0.4.2)\n",
            "Requirement already satisfied: lunardate>=0.1.5 in /usr/local/lib/python3.6/dist-packages (from fbprophet==0.5->atspy) (0.2.0)\n",
            "Requirement already satisfied: pystan>=2.14 in /usr/local/lib/python3.6/dist-packages (from fbprophet==0.5->atspy) (2.19.1.1)\n",
            "Requirement already satisfied: holidays>=0.9.5 in /usr/local/lib/python3.6/dist-packages (from fbprophet==0.5->atspy) (0.9.12)\n",
            "Requirement already satisfied: setuptools-git>=1.2 in /usr/local/lib/python3.6/dist-packages (from fbprophet==0.5->atspy) (1.2)\n",
            "Requirement already satisfied: convertdate>=2.1.2 in /usr/local/lib/python3.6/dist-packages (from fbprophet==0.5->atspy) (2.2.1)\n",
            "Requirement already satisfied: joblib>=0.11 in /usr/local/lib/python3.6/dist-packages (from pmdarima==1.5.2->atspy) (0.15.1)\n",
            "Requirement already satisfied: distributed>=1.18.3 in /usr/local/lib/python3.6/dist-packages (from tsfresh==0.14.1->atspy) (1.25.3)\n",
            "Requirement already satisfied: requests>=2.9.1 in /usr/local/lib/python3.6/dist-packages (from tsfresh==0.14.1->atspy) (2.23.0)\n",
            "Requirement already satisfied: dask[dataframe]>=0.15.2 in /usr/local/lib/python3.6/dist-packages (from tsfresh==0.14.1->atspy) (2.12.0)\n",
            "Requirement already satisfied: patsy>=0.4.1 in /usr/local/lib/python3.6/dist-packages (from tsfresh==0.14.1->atspy) (0.5.1)\n",
            "Requirement already satisfied: requests-oauthlib>=0.7.0 in /usr/local/lib/python3.6/dist-packages (from tweepy==3.6.0->atspy) (1.3.0)\n",
            "Requirement already satisfied: PySocks>=1.5.7 in /usr/local/lib/python3.6/dist-packages (from tweepy==3.6.0->atspy) (1.7.1)\n",
            "Requirement already satisfied: six>=1.10.0 in /usr/local/lib/python3.6/dist-packages (from tweepy==3.6.0->atspy) (1.12.0)\n",
            "Requirement already satisfied: setuptools>=3.0 in /usr/local/lib/python3.6/dist-packages (from gunicorn==20.0.4->atspy) (47.1.1)\n",
            "Requirement already satisfied: gast==0.2.2 in /usr/local/lib/python3.6/dist-packages (from tensorflow==1.15.0->atspy) (0.2.2)\n",
            "Requirement already satisfied: absl-py>=0.7.0 in /usr/local/lib/python3.6/dist-packages (from tensorflow==1.15.0->atspy) (0.9.0)\n",
            "Requirement already satisfied: keras-preprocessing>=1.0.5 in /usr/local/lib/python3.6/dist-packages (from tensorflow==1.15.0->atspy) (1.1.2)\n",
            "Requirement already satisfied: tensorboard<1.16.0,>=1.15.0 in /usr/local/lib/python3.6/dist-packages (from tensorflow==1.15.0->atspy) (1.15.0)\n",
            "Requirement already satisfied: opt-einsum>=2.3.2 in /usr/local/lib/python3.6/dist-packages (from tensorflow==1.15.0->atspy) (3.2.1)\n",
            "Requirement already satisfied: astor>=0.6.0 in /usr/local/lib/python3.6/dist-packages (from tensorflow==1.15.0->atspy) (0.8.1)\n",
            "Requirement already satisfied: keras-applications>=1.0.8 in /usr/local/lib/python3.6/dist-packages (from tensorflow==1.15.0->atspy) (1.0.8)\n",
            "Requirement already satisfied: termcolor>=1.1.0 in /usr/local/lib/python3.6/dist-packages (from tensorflow==1.15.0->atspy) (1.1.0)\n",
            "Requirement already satisfied: google-pasta>=0.1.6 in /usr/local/lib/python3.6/dist-packages (from tensorflow==1.15.0->atspy) (0.2.0)\n",
            "Requirement already satisfied: protobuf>=3.6.1 in /usr/local/lib/python3.6/dist-packages (from tensorflow==1.15.0->atspy) (3.10.0)\n",
            "Requirement already satisfied: wrapt>=1.11.1 in /usr/local/lib/python3.6/dist-packages (from tensorflow==1.15.0->atspy) (1.12.1)\n",
            "Requirement already satisfied: grpcio>=1.8.6 in /usr/local/lib/python3.6/dist-packages (from tensorflow==1.15.0->atspy) (1.29.0)\n",
            "Requirement already satisfied: wheel>=0.26 in /usr/local/lib/python3.6/dist-packages (from tensorflow==1.15.0->atspy) (0.34.2)\n",
            "Requirement already satisfied: tensorflow-estimator==1.15.1 in /usr/local/lib/python3.6/dist-packages (from tensorflow==1.15.0->atspy) (1.15.1)\n",
            "Requirement already satisfied: Pillow in /usr/local/lib/python3.6/dist-packages (from tflearn==0.3.2->atspy) (7.0.0)\n",
            "Requirement already satisfied: cycler>=0.10 in /usr/local/lib/python3.6/dist-packages (from matplotlib==3.1.2->atspy) (0.10.0)\n",
            "Requirement already satisfied: python-dateutil>=2.1 in /usr/local/lib/python3.6/dist-packages (from matplotlib==3.1.2->atspy) (2.8.0)\n",
            "Requirement already satisfied: kiwisolver>=1.0.1 in /usr/local/lib/python3.6/dist-packages (from matplotlib==3.1.2->atspy) (1.2.0)\n",
            "Requirement already satisfied: pyparsing!=2.0.4,!=2.1.2,!=2.1.6,>=2.0.1 in /usr/local/lib/python3.6/dist-packages (from matplotlib==3.1.2->atspy) (2.4.7)\n",
            "Requirement already satisfied: pytz in /usr/local/lib/python3.6/dist-packages (from DateTime==4.3->atspy) (2018.9)\n",
            "Requirement already satisfied: zope.interface in /usr/local/lib/python3.6/dist-packages (from DateTime==4.3->atspy) (5.1.0)\n",
            "Requirement already satisfied: h5py in /usr/local/lib/python3.6/dist-packages (from Keras==2.2.5->atspy) (2.10.0)\n",
            "Requirement already satisfied: pyyaml in /usr/local/lib/python3.6/dist-packages (from Keras==2.2.5->atspy) (3.13)\n",
            "Requirement already satisfied: mpmath>=0.19 in /usr/local/lib/python3.6/dist-packages (from sympy==1.1.1->atspy) (1.1.0)\n",
            "Requirement already satisfied: graphviz<0.9.0,>=0.8.1 in /usr/local/lib/python3.6/dist-packages (from mxnet-cu100==1.4.1->atspy) (0.8.4)\n",
            "Requirement already satisfied: torchvision in /usr/local/lib/python3.6/dist-packages (from nbeats-pytorch==1.3.0->atspy) (0.6.0+cu101)\n",
            "Requirement already satisfied: llvmlite>=0.31.0dev0 in /usr/local/lib/python3.6/dist-packages (from numba==0.47.0->atspy) (0.31.0)\n",
            "Requirement already satisfied: click>=6 in /usr/local/lib/python3.6/dist-packages (from pip-tools==4.2.0->atspy) (7.1.2)\n",
            "Requirement already satisfied: ujson~=1.35 in /usr/local/lib/python3.6/dist-packages (from gluonts==0.4.2->atspy) (1.35)\n",
            "Requirement already satisfied: boto3~=1.0 in /usr/local/lib/python3.6/dist-packages (from gluonts==0.4.2->atspy) (1.13.19)\n",
            "Requirement already satisfied: pymeeus<=1,>=0.3.6 in /usr/local/lib/python3.6/dist-packages (from convertdate>=2.1.2->fbprophet==0.5->atspy) (0.3.7)\n",
            "Requirement already satisfied: cloudpickle>=0.2.2 in /usr/local/lib/python3.6/dist-packages (from distributed>=1.18.3->tsfresh==0.14.1->atspy) (1.3.0)\n",
            "Requirement already satisfied: tornado>=4.5.1 in /usr/local/lib/python3.6/dist-packages (from distributed>=1.18.3->tsfresh==0.14.1->atspy) (4.5.3)\n",
            "Requirement already satisfied: toolz>=0.7.4 in /usr/local/lib/python3.6/dist-packages (from distributed>=1.18.3->tsfresh==0.14.1->atspy) (0.10.0)\n",
            "Requirement already satisfied: msgpack in /usr/local/lib/python3.6/dist-packages (from distributed>=1.18.3->tsfresh==0.14.1->atspy) (1.0.0)\n",
            "Requirement already satisfied: zict>=0.1.3 in /usr/local/lib/python3.6/dist-packages (from distributed>=1.18.3->tsfresh==0.14.1->atspy) (2.0.0)\n",
            "Requirement already satisfied: sortedcontainers!=2.0.0,!=2.0.1 in /usr/local/lib/python3.6/dist-packages (from distributed>=1.18.3->tsfresh==0.14.1->atspy) (2.1.0)\n",
            "Requirement already satisfied: urllib3!=1.25.0,!=1.25.1,<1.26,>=1.21.1 in /usr/local/lib/python3.6/dist-packages (from requests>=2.9.1->tsfresh==0.14.1->atspy) (1.24.3)\n",
            "Requirement already satisfied: chardet<4,>=3.0.2 in /usr/local/lib/python3.6/dist-packages (from requests>=2.9.1->tsfresh==0.14.1->atspy) (3.0.4)\n",
            "Requirement already satisfied: idna<3,>=2.5 in /usr/local/lib/python3.6/dist-packages (from requests>=2.9.1->tsfresh==0.14.1->atspy) (2.9)\n",
            "Requirement already satisfied: certifi>=2017.4.17 in /usr/local/lib/python3.6/dist-packages (from requests>=2.9.1->tsfresh==0.14.1->atspy) (2020.4.5.1)\n",
            "Requirement already satisfied: partd>=0.3.10; extra == \"dataframe\" in /usr/local/lib/python3.6/dist-packages (from dask[dataframe]>=0.15.2->tsfresh==0.14.1->atspy) (1.1.0)\n",
            "Requirement already satisfied: fsspec>=0.6.0; extra == \"dataframe\" in /usr/local/lib/python3.6/dist-packages (from dask[dataframe]>=0.15.2->tsfresh==0.14.1->atspy) (0.7.4)\n",
            "Requirement already satisfied: oauthlib>=3.0.0 in /usr/local/lib/python3.6/dist-packages (from requests-oauthlib>=0.7.0->tweepy==3.6.0->atspy) (3.1.0)\n",
            "Requirement already satisfied: werkzeug>=0.11.15 in /usr/local/lib/python3.6/dist-packages (from tensorboard<1.16.0,>=1.15.0->tensorflow==1.15.0->atspy) (1.0.1)\n",
            "Requirement already satisfied: markdown>=2.6.8 in /usr/local/lib/python3.6/dist-packages (from tensorboard<1.16.0,>=1.15.0->tensorflow==1.15.0->atspy) (3.2.2)\n",
            "Requirement already satisfied: s3transfer<0.4.0,>=0.3.0 in /usr/local/lib/python3.6/dist-packages (from boto3~=1.0->gluonts==0.4.2->atspy) (0.3.3)\n",
            "Requirement already satisfied: botocore<1.17.0,>=1.16.19 in /usr/local/lib/python3.6/dist-packages (from boto3~=1.0->gluonts==0.4.2->atspy) (1.16.19)\n",
            "Requirement already satisfied: jmespath<1.0.0,>=0.7.1 in /usr/local/lib/python3.6/dist-packages (from boto3~=1.0->gluonts==0.4.2->atspy) (0.10.0)\n",
            "Requirement already satisfied: heapdict in /usr/local/lib/python3.6/dist-packages (from zict>=0.1.3->distributed>=1.18.3->tsfresh==0.14.1->atspy) (1.0.1)\n",
            "Requirement already satisfied: locket in /usr/local/lib/python3.6/dist-packages (from partd>=0.3.10; extra == \"dataframe\"->dask[dataframe]>=0.15.2->tsfresh==0.14.1->atspy) (0.2.0)\n",
            "Requirement already satisfied: importlib-metadata; python_version < \"3.8\" in /usr/local/lib/python3.6/dist-packages (from markdown>=2.6.8->tensorboard<1.16.0,>=1.15.0->tensorflow==1.15.0->atspy) (1.6.0)\n",
            "Requirement already satisfied: docutils<0.16,>=0.10 in /usr/local/lib/python3.6/dist-packages (from botocore<1.17.0,>=1.16.19->boto3~=1.0->gluonts==0.4.2->atspy) (0.15.2)\n",
            "Requirement already satisfied: zipp>=0.5 in /usr/local/lib/python3.6/dist-packages (from importlib-metadata; python_version < \"3.8\"->markdown>=2.6.8->tensorboard<1.16.0,>=1.15.0->tensorflow==1.15.0->atspy) (3.1.0)\n"
          ],
          "name": "stdout"
        }
      ]
    },
    {
      "cell_type": "code",
      "metadata": {
        "id": "82WNkidMcwrH",
        "colab_type": "code",
        "colab": {
          "base_uri": "https://localhost:8080/",
          "height": 225
        },
        "outputId": "fe83d1ed-98b2-4943-aa2b-322a21aae0e7"
      },
      "source": [
        "import pandas as pd\n",
        "df = pd.read_csv(\"https://raw.githubusercontent.com/guthiLatha/ML/master/acc_XXXXXXXXX1316_Testing.csv\")\n",
        "df.Days = pd.to_datetime(df.Days)\n",
        "df = df.set_index(\"Days\")\n",
        "df.head()"
      ],
      "execution_count": null,
      "outputs": [
        {
          "output_type": "execute_result",
          "data": {
            "text/html": [
              "<div>\n",
              "<style scoped>\n",
              "    .dataframe tbody tr th:only-of-type {\n",
              "        vertical-align: middle;\n",
              "    }\n",
              "\n",
              "    .dataframe tbody tr th {\n",
              "        vertical-align: top;\n",
              "    }\n",
              "\n",
              "    .dataframe thead th {\n",
              "        text-align: right;\n",
              "    }\n",
              "</style>\n",
              "<table border=\"1\" class=\"dataframe\">\n",
              "  <thead>\n",
              "    <tr style=\"text-align: right;\">\n",
              "      <th></th>\n",
              "      <th>Balance</th>\n",
              "    </tr>\n",
              "    <tr>\n",
              "      <th>Days</th>\n",
              "      <th></th>\n",
              "    </tr>\n",
              "  </thead>\n",
              "  <tbody>\n",
              "    <tr>\n",
              "      <th>2012-03-09</th>\n",
              "      <td>88870.0</td>\n",
              "    </tr>\n",
              "    <tr>\n",
              "      <th>2012-03-10</th>\n",
              "      <td>88870.0</td>\n",
              "    </tr>\n",
              "    <tr>\n",
              "      <th>2012-03-11</th>\n",
              "      <td>88870.0</td>\n",
              "    </tr>\n",
              "    <tr>\n",
              "      <th>2012-03-12</th>\n",
              "      <td>88870.0</td>\n",
              "    </tr>\n",
              "    <tr>\n",
              "      <th>2012-03-13</th>\n",
              "      <td>88870.0</td>\n",
              "    </tr>\n",
              "  </tbody>\n",
              "</table>\n",
              "</div>"
            ],
            "text/plain": [
              "            Balance\n",
              "Days               \n",
              "2012-03-09  88870.0\n",
              "2012-03-10  88870.0\n",
              "2012-03-11  88870.0\n",
              "2012-03-12  88870.0\n",
              "2012-03-13  88870.0"
            ]
          },
          "metadata": {
            "tags": []
          },
          "execution_count": 6
        }
      ]
    },
    {
      "cell_type": "code",
      "metadata": {
        "id": "uwXnWUXFgfhf",
        "colab_type": "code",
        "colab": {
          "base_uri": "https://localhost:8080/",
          "height": 34
        },
        "outputId": "fd6e291d-76e7-4bec-b37a-4a8a8f8ce19c"
      },
      "source": [
        "from atspy import AutomatedModel"
      ],
      "execution_count": null,
      "outputs": [
        {
          "output_type": "stream",
          "text": [
            "INFO:root:Using CPU\n"
          ],
          "name": "stderr"
        }
      ]
    },
    {
      "cell_type": "code",
      "metadata": {
        "id": "IpBFtaDXg7HX",
        "colab_type": "code",
        "colab": {
          "base_uri": "https://localhost:8080/",
          "height": 487
        },
        "outputId": "951d9002-d320-4a6b-fd24-455955505e51"
      },
      "source": [
        "model_list=[\"HWAMS\",\"HWAAS\",\"TBAT\"]\n",
        "\n",
        "am = AutomatedModel(df = df , model_list=model_list, season=\"infer_from_data\",forecast_len=60 )\n",
        "forecast_in, performance = am.forecast_insample()\n",
        "forecast_out = am.forecast_outsample()\n",
        "all_ensemble_in, all_ensemble_out, all_performance = am.ensemble(forecast_in, forecast_out)"
      ],
      "execution_count": null,
      "outputs": [
        {
          "output_type": "stream",
          "text": [
            "<class 'pandas.core.frame.DataFrame'>\n",
            "The data has been successfully parsed by infering a frequency, and establishing a 'Date' index and 'Target' column.\n",
            "1779\n",
            "An insample split of training size 1779 and testing size 593 has been constructed\n",
            "Model HWAMS is being trained for in sample prediction\n",
            "Model HWAAS is being trained for in sample prediction\n",
            "Model TBAT is being trained for in sample prediction\n",
            "Model HWAMS is being used to forcast in sample\n",
            "Model HWAAS is being used to forcast in sample\n",
            "Model TBAT is being used to forcast in sample\n",
            "Successfully finished in sample forecast\n",
            "<class 'pandas.core.frame.DataFrame'>\n",
            "The data has been successfully parsed by infering a frequency, and establishing a 'Date' index and 'Target' column.\n",
            "Model HWAMS is being trained for out of sample prediction\n",
            "Model HWAAS is being trained for out of sample prediction\n",
            "Model TBAT is being trained for out of sample prediction\n",
            "Model HWAMS is being used to forcast out of sample\n",
            "Model HWAAS is being used to forcast out of sample\n",
            "Model TBAT is being used to forcast out of sample\n",
            "Successfully finished out of sample forecast\n",
            "Building LightGBM Ensemble from TS data (ensemble_lgb)\n",
            "Building LightGBM Ensemble from PCA reduced TSFresh Features (ensemble_ts). This can take a long time.\n",
            "LightGBM ensemble have been successfully built\n"
          ],
          "name": "stdout"
        },
        {
          "output_type": "stream",
          "text": [
            "INFO:numexpr.utils:NumExpr defaulting to 2 threads.\n"
          ],
          "name": "stderr"
        },
        {
          "output_type": "stream",
          "text": [
            "267  variables are found to be almost constant\n",
            "LightGBM ensemble have been successfully built\n",
            "Building Standard First Level Ensemble\n",
            "Building Final Multi-level Ensemble\n"
          ],
          "name": "stdout"
        }
      ]
    },
    {
      "cell_type": "code",
      "metadata": {
        "id": "rudHp93Xj6-Q",
        "colab_type": "code",
        "colab": {
          "base_uri": "https://localhost:8080/",
          "height": 225
        },
        "outputId": "08dc6919-9df0-4acf-aed8-c7c91e80a671"
      },
      "source": [
        "forecast_in.head()"
      ],
      "execution_count": null,
      "outputs": [
        {
          "output_type": "execute_result",
          "data": {
            "text/html": [
              "<div>\n",
              "<style scoped>\n",
              "    .dataframe tbody tr th:only-of-type {\n",
              "        vertical-align: middle;\n",
              "    }\n",
              "\n",
              "    .dataframe tbody tr th {\n",
              "        vertical-align: top;\n",
              "    }\n",
              "\n",
              "    .dataframe thead th {\n",
              "        text-align: right;\n",
              "    }\n",
              "</style>\n",
              "<table border=\"1\" class=\"dataframe\">\n",
              "  <thead>\n",
              "    <tr style=\"text-align: right;\">\n",
              "      <th></th>\n",
              "      <th>Target</th>\n",
              "      <th>HWAMS</th>\n",
              "      <th>HWAAS</th>\n",
              "      <th>TBAT</th>\n",
              "    </tr>\n",
              "    <tr>\n",
              "      <th>Date</th>\n",
              "      <th></th>\n",
              "      <th></th>\n",
              "      <th></th>\n",
              "      <th></th>\n",
              "    </tr>\n",
              "  </thead>\n",
              "  <tbody>\n",
              "    <tr>\n",
              "      <th>2017-01-21</th>\n",
              "      <td>108645.18</td>\n",
              "      <td>96957.662735</td>\n",
              "      <td>42993.977110</td>\n",
              "      <td>132268.620820</td>\n",
              "    </tr>\n",
              "    <tr>\n",
              "      <th>2017-01-22</th>\n",
              "      <td>108645.18</td>\n",
              "      <td>87039.643417</td>\n",
              "      <td>53558.534334</td>\n",
              "      <td>156111.497245</td>\n",
              "    </tr>\n",
              "    <tr>\n",
              "      <th>2017-01-23</th>\n",
              "      <td>108645.18</td>\n",
              "      <td>74534.907233</td>\n",
              "      <td>56222.190675</td>\n",
              "      <td>179956.942160</td>\n",
              "    </tr>\n",
              "    <tr>\n",
              "      <th>2017-01-24</th>\n",
              "      <td>108645.18</td>\n",
              "      <td>64615.399876</td>\n",
              "      <td>55990.152649</td>\n",
              "      <td>203758.970743</td>\n",
              "    </tr>\n",
              "    <tr>\n",
              "      <th>2017-01-25</th>\n",
              "      <td>98278.48</td>\n",
              "      <td>57949.587911</td>\n",
              "      <td>55783.670094</td>\n",
              "      <td>227482.249428</td>\n",
              "    </tr>\n",
              "  </tbody>\n",
              "</table>\n",
              "</div>"
            ],
            "text/plain": [
              "               Target         HWAMS         HWAAS           TBAT\n",
              "Date                                                            \n",
              "2017-01-21  108645.18  96957.662735  42993.977110  132268.620820\n",
              "2017-01-22  108645.18  87039.643417  53558.534334  156111.497245\n",
              "2017-01-23  108645.18  74534.907233  56222.190675  179956.942160\n",
              "2017-01-24  108645.18  64615.399876  55990.152649  203758.970743\n",
              "2017-01-25   98278.48  57949.587911  55783.670094  227482.249428"
            ]
          },
          "metadata": {
            "tags": []
          },
          "execution_count": 8
        }
      ]
    },
    {
      "cell_type": "code",
      "metadata": {
        "id": "YnST2HLcj_gC",
        "colab_type": "code",
        "colab": {
          "base_uri": "https://localhost:8080/",
          "height": 225
        },
        "outputId": "d91f032a-6896-44f4-9d98-e7e05663c8e8"
      },
      "source": [
        "forecast_out.head()"
      ],
      "execution_count": null,
      "outputs": [
        {
          "output_type": "execute_result",
          "data": {
            "text/html": [
              "<div>\n",
              "<style scoped>\n",
              "    .dataframe tbody tr th:only-of-type {\n",
              "        vertical-align: middle;\n",
              "    }\n",
              "\n",
              "    .dataframe tbody tr th {\n",
              "        vertical-align: top;\n",
              "    }\n",
              "\n",
              "    .dataframe thead th {\n",
              "        text-align: right;\n",
              "    }\n",
              "</style>\n",
              "<table border=\"1\" class=\"dataframe\">\n",
              "  <thead>\n",
              "    <tr style=\"text-align: right;\">\n",
              "      <th></th>\n",
              "      <th>HWAMS</th>\n",
              "      <th>HWAAS</th>\n",
              "      <th>TBAT</th>\n",
              "    </tr>\n",
              "    <tr>\n",
              "      <th>Date</th>\n",
              "      <th></th>\n",
              "      <th></th>\n",
              "      <th></th>\n",
              "    </tr>\n",
              "  </thead>\n",
              "  <tbody>\n",
              "    <tr>\n",
              "      <th>2018-09-06</th>\n",
              "      <td>38757.850309</td>\n",
              "      <td>60245.626046</td>\n",
              "      <td>48304.729888</td>\n",
              "    </tr>\n",
              "    <tr>\n",
              "      <th>2018-09-07</th>\n",
              "      <td>48808.024823</td>\n",
              "      <td>80161.749075</td>\n",
              "      <td>48052.789283</td>\n",
              "    </tr>\n",
              "    <tr>\n",
              "      <th>2018-09-08</th>\n",
              "      <td>68769.649514</td>\n",
              "      <td>139335.631989</td>\n",
              "      <td>47802.162712</td>\n",
              "    </tr>\n",
              "    <tr>\n",
              "      <th>2018-09-09</th>\n",
              "      <td>68378.841678</td>\n",
              "      <td>206237.630765</td>\n",
              "      <td>47552.843322</td>\n",
              "    </tr>\n",
              "    <tr>\n",
              "      <th>2018-09-10</th>\n",
              "      <td>64253.246775</td>\n",
              "      <td>258845.973283</td>\n",
              "      <td>47304.824295</td>\n",
              "    </tr>\n",
              "  </tbody>\n",
              "</table>\n",
              "</div>"
            ],
            "text/plain": [
              "                   HWAMS          HWAAS          TBAT\n",
              "Date                                                 \n",
              "2018-09-06  38757.850309   60245.626046  48304.729888\n",
              "2018-09-07  48808.024823   80161.749075  48052.789283\n",
              "2018-09-08  68769.649514  139335.631989  47802.162712\n",
              "2018-09-09  68378.841678  206237.630765  47552.843322\n",
              "2018-09-10  64253.246775  258845.973283  47304.824295"
            ]
          },
          "metadata": {
            "tags": []
          },
          "execution_count": 9
        }
      ]
    },
    {
      "cell_type": "code",
      "metadata": {
        "id": "xcZsJklLkL4X",
        "colab_type": "code",
        "colab": {
          "base_uri": "https://localhost:8080/",
          "height": 136
        },
        "outputId": "8ec7fbc9-50f6-45cc-83ce-27b195b41fb5"
      },
      "source": [
        "performance"
      ],
      "execution_count": null,
      "outputs": [
        {
          "output_type": "execute_result",
          "data": {
            "text/html": [
              "<div>\n",
              "<style scoped>\n",
              "    .dataframe tbody tr th:only-of-type {\n",
              "        vertical-align: middle;\n",
              "    }\n",
              "\n",
              "    .dataframe tbody tr th {\n",
              "        vertical-align: top;\n",
              "    }\n",
              "\n",
              "    .dataframe thead th {\n",
              "        text-align: right;\n",
              "    }\n",
              "</style>\n",
              "<table border=\"1\" class=\"dataframe\">\n",
              "  <thead>\n",
              "    <tr style=\"text-align: right;\">\n",
              "      <th></th>\n",
              "      <th>Target</th>\n",
              "      <th>HWAMS</th>\n",
              "      <th>HWAAS</th>\n",
              "      <th>TBAT</th>\n",
              "    </tr>\n",
              "  </thead>\n",
              "  <tbody>\n",
              "    <tr>\n",
              "      <th>rmse</th>\n",
              "      <td>0.000000e+00</td>\n",
              "      <td>1.476920e+06</td>\n",
              "      <td>9.456410e+05</td>\n",
              "      <td>1.423444e+06</td>\n",
              "    </tr>\n",
              "    <tr>\n",
              "      <th>mse</th>\n",
              "      <td>0.000000e+00</td>\n",
              "      <td>2.181294e+12</td>\n",
              "      <td>8.942369e+11</td>\n",
              "      <td>2.026194e+12</td>\n",
              "    </tr>\n",
              "    <tr>\n",
              "      <th>mean</th>\n",
              "      <td>1.173057e+06</td>\n",
              "      <td>2.105070e+05</td>\n",
              "      <td>1.317998e+06</td>\n",
              "      <td>1.883751e+06</td>\n",
              "    </tr>\n",
              "  </tbody>\n",
              "</table>\n",
              "</div>"
            ],
            "text/plain": [
              "            Target         HWAMS         HWAAS          TBAT\n",
              "rmse  0.000000e+00  1.476920e+06  9.456410e+05  1.423444e+06\n",
              "mse   0.000000e+00  2.181294e+12  8.942369e+11  2.026194e+12\n",
              "mean  1.173057e+06  2.105070e+05  1.317998e+06  1.883751e+06"
            ]
          },
          "metadata": {
            "tags": []
          },
          "execution_count": 10
        }
      ]
    },
    {
      "cell_type": "code",
      "metadata": {
        "id": "wFnfVWytkUil",
        "colab_type": "code",
        "colab": {
          "base_uri": "https://localhost:8080/",
          "height": 373
        },
        "outputId": "f54b9c38-463f-447f-9aed-f49a5a97c53f"
      },
      "source": [
        "all_performance"
      ],
      "execution_count": null,
      "outputs": [
        {
          "output_type": "execute_result",
          "data": {
            "text/html": [
              "<div>\n",
              "<style scoped>\n",
              "    .dataframe tbody tr th:only-of-type {\n",
              "        vertical-align: middle;\n",
              "    }\n",
              "\n",
              "    .dataframe tbody tr th {\n",
              "        vertical-align: top;\n",
              "    }\n",
              "\n",
              "    .dataframe thead th {\n",
              "        text-align: right;\n",
              "    }\n",
              "</style>\n",
              "<table border=\"1\" class=\"dataframe\">\n",
              "  <thead>\n",
              "    <tr style=\"text-align: right;\">\n",
              "      <th></th>\n",
              "      <th>rmse</th>\n",
              "      <th>mse</th>\n",
              "      <th>mean</th>\n",
              "    </tr>\n",
              "  </thead>\n",
              "  <tbody>\n",
              "    <tr>\n",
              "      <th>ensemble_ts</th>\n",
              "      <td>9.664108e+03</td>\n",
              "      <td>9.339498e+07</td>\n",
              "      <td>3.314712e+04</td>\n",
              "    </tr>\n",
              "    <tr>\n",
              "      <th>ensemble_ts__X__HWAMS</th>\n",
              "      <td>7.309839e+04</td>\n",
              "      <td>5.343375e+09</td>\n",
              "      <td>1.117349e+05</td>\n",
              "    </tr>\n",
              "    <tr>\n",
              "      <th>HWAMS</th>\n",
              "      <td>1.553423e+05</td>\n",
              "      <td>2.413124e+10</td>\n",
              "      <td>1.903227e+05</td>\n",
              "    </tr>\n",
              "    <tr>\n",
              "      <th>ensemble_ts__X__HWAMS__X__HWAAS_TBAT_HWAMS</th>\n",
              "      <td>4.249673e+05</td>\n",
              "      <td>1.805972e+11</td>\n",
              "      <td>4.640964e+05</td>\n",
              "    </tr>\n",
              "    <tr>\n",
              "      <th>ensemble_ts__X__HWAMS__X__HWAAS_TBAT_HWAMS__X__HWAAS__X__HWAAS_TBAT</th>\n",
              "      <td>8.122764e+05</td>\n",
              "      <td>6.597930e+11</td>\n",
              "      <td>8.468828e+05</td>\n",
              "    </tr>\n",
              "    <tr>\n",
              "      <th>HWAAS_TBAT_HWAMS</th>\n",
              "      <td>1.131645e+06</td>\n",
              "      <td>1.280621e+12</td>\n",
              "      <td>1.168819e+06</td>\n",
              "    </tr>\n",
              "    <tr>\n",
              "      <th>HWAAS</th>\n",
              "      <td>1.172952e+06</td>\n",
              "      <td>1.375816e+12</td>\n",
              "      <td>1.184057e+06</td>\n",
              "    </tr>\n",
              "    <tr>\n",
              "      <th>ensemble_ts__X__HWAMS__X__HWAAS_TBAT_HWAMS__X__HWAAS__X__HWAAS_TBAT__X__TBAT__X__ensemble_lgb</th>\n",
              "      <td>1.285288e+06</td>\n",
              "      <td>1.651964e+12</td>\n",
              "      <td>1.324610e+06</td>\n",
              "    </tr>\n",
              "    <tr>\n",
              "      <th>HWAAS_TBAT</th>\n",
              "      <td>1.621664e+06</td>\n",
              "      <td>2.629794e+12</td>\n",
              "      <td>1.658068e+06</td>\n",
              "    </tr>\n",
              "    <tr>\n",
              "      <th>TBAT</th>\n",
              "      <td>2.090344e+06</td>\n",
              "      <td>4.369538e+12</td>\n",
              "      <td>2.132079e+06</td>\n",
              "    </tr>\n",
              "    <tr>\n",
              "      <th>ensemble_lgb</th>\n",
              "      <td>2.864217e+06</td>\n",
              "      <td>8.203737e+12</td>\n",
              "      <td>2.905780e+06</td>\n",
              "    </tr>\n",
              "  </tbody>\n",
              "</table>\n",
              "</div>"
            ],
            "text/plain": [
              "                                                            rmse  ...          mean\n",
              "ensemble_ts                                         9.664108e+03  ...  3.314712e+04\n",
              "ensemble_ts__X__HWAMS                               7.309839e+04  ...  1.117349e+05\n",
              "HWAMS                                               1.553423e+05  ...  1.903227e+05\n",
              "ensemble_ts__X__HWAMS__X__HWAAS_TBAT_HWAMS          4.249673e+05  ...  4.640964e+05\n",
              "ensemble_ts__X__HWAMS__X__HWAAS_TBAT_HWAMS__X__...  8.122764e+05  ...  8.468828e+05\n",
              "HWAAS_TBAT_HWAMS                                    1.131645e+06  ...  1.168819e+06\n",
              "HWAAS                                               1.172952e+06  ...  1.184057e+06\n",
              "ensemble_ts__X__HWAMS__X__HWAAS_TBAT_HWAMS__X__...  1.285288e+06  ...  1.324610e+06\n",
              "HWAAS_TBAT                                          1.621664e+06  ...  1.658068e+06\n",
              "TBAT                                                2.090344e+06  ...  2.132079e+06\n",
              "ensemble_lgb                                        2.864217e+06  ...  2.905780e+06\n",
              "\n",
              "[11 rows x 3 columns]"
            ]
          },
          "metadata": {
            "tags": []
          },
          "execution_count": 11
        }
      ]
    },
    {
      "cell_type": "code",
      "metadata": {
        "id": "fZm4WF_LkXAo",
        "colab_type": "code",
        "colab": {
          "base_uri": "https://localhost:8080/",
          "height": 331
        },
        "outputId": "11b11f69-1f94-4aa6-8528-e70dd7b5326f"
      },
      "source": [
        "all_ensemble_in[[\"Target\",\"HWAAS_TBAT_HWAMS\",\"HWAAS\",\"HWAMS\"]].plot()"
      ],
      "execution_count": null,
      "outputs": [
        {
          "output_type": "execute_result",
          "data": {
            "text/plain": [
              "<matplotlib.axes._subplots.AxesSubplot at 0x7f3769c31e80>"
            ]
          },
          "metadata": {
            "tags": []
          },
          "execution_count": 21
        },
        {
          "output_type": "display_data",
          "data": {
            "image/png": "[encoded data removed]",
            "text/plain": [
              "<Figure size 792x288 with 1 Axes>"
            ]
          },
          "metadata": {
            "tags": [],
            "needs_background": "light"
          }
        }
      ]
    },
    {
      "cell_type": "code",
      "metadata": {
        "id": "C2nfEMwYlBnK",
        "colab_type": "code",
        "colab": {
          "base_uri": "https://localhost:8080/",
          "height": 331
        },
        "outputId": "7fd471ac-48e5-44f2-b662-d9dc65cf1ebc"
      },
      "source": [
        "all_ensemble_out[[\"HWAAS_TBAT_HWAMS\",\"HWAAS\",\"HWAMS\"]].plot()"
      ],
      "execution_count": null,
      "outputs": [
        {
          "output_type": "execute_result",
          "data": {
            "text/plain": [
              "<matplotlib.axes._subplots.AxesSubplot at 0x7f376b7a9fd0>"
            ]
          },
          "metadata": {
            "tags": []
          },
          "execution_count": 22
        },
        {
          "output_type": "display_data",
          "data": {
            "image/png": "[encoded data removed]",
            "text/plain": [
              "<Figure size 792x288 with 1 Axes>"
            ]
          },
          "metadata": {
            "tags": [],
            "needs_background": "light"
          }
        }
      ]
    },
    {
      "cell_type": "code",
      "metadata": {
        "id": "zZsNmgmnlQC5",
        "colab_type": "code",
        "colab": {
          "base_uri": "https://localhost:8080/",
          "height": 67
        },
        "outputId": "bcd05627-11bb-47f1-d3f5-d5a335db195f"
      },
      "source": [
        "am.models_dict_in"
      ],
      "execution_count": null,
      "outputs": [
        {
          "output_type": "execute_result",
          "data": {
            "text/plain": [
              "{'HWAAS': <statsmodels.tsa.holtwinters.HoltWintersResultsWrapper at 0x7f3778ffb198>,\n",
              " 'HWAMS': <statsmodels.tsa.holtwinters.HoltWintersResultsWrapper at 0x7f377926ea90>,\n",
              " 'TBAT': <tbats.tbats.Model.Model at 0x7f377b56e470>}"
            ]
          },
          "metadata": {
            "tags": []
          },
          "execution_count": 17
        }
      ]
    },
    {
      "cell_type": "code",
      "metadata": {
        "id": "7Whmh4VllWBr",
        "colab_type": "code",
        "colab": {
          "base_uri": "https://localhost:8080/",
          "height": 67
        },
        "outputId": "2f72bba8-1694-446b-dee3-118243f0e74e"
      },
      "source": [
        "am.models_dict_out"
      ],
      "execution_count": null,
      "outputs": [
        {
          "output_type": "execute_result",
          "data": {
            "text/plain": [
              "{'HWAAS': <statsmodels.tsa.holtwinters.HoltWintersResultsWrapper at 0x7f3778c5f908>,\n",
              " 'HWAMS': <statsmodels.tsa.holtwinters.HoltWintersResultsWrapper at 0x7f3778c78b38>,\n",
              " 'TBAT': <tbats.tbats.Model.Model at 0x7f3778ffb4a8>}"
            ]
          },
          "metadata": {
            "tags": []
          },
          "execution_count": 18
        }
      ]
    }
  ]
}