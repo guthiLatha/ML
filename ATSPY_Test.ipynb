{
  "nbformat": 4,
  "nbformat_minor": 0,
  "metadata": {
    "colab": {
      "name": "Untitled0.ipynb",
      "provenance": [],
      "authorship_tag": "ABX9TyNC78Fabhr65+2gShFs3SUe",
      "include_colab_link": true
    },
    "kernelspec": {
      "name": "python3",
      "display_name": "Python 3"
    }
  },
  "cells": [
    {
      "cell_type": "markdown",
      "metadata": {
        "id": "view-in-github",
        "colab_type": "text"
      },
      "source": [
        "<a href=\"https://colab.research.google.com/github/guthiLatha/ML/blob/master/ATSPY_Test.ipynb\" target=\"_parent\"><img src=\"https://colab.research.google.com/assets/colab-badge.svg\" alt=\"Open In Colab\"/></a>"
      ]
    },
    {
      "cell_type": "code",
      "metadata": {
        "id": "vbuKWg2wBOKX",
        "colab_type": "code",
        "colab": {
          "base_uri": "https://localhost:8080/",
          "height": 1000
        },
        "outputId": "aa1694c5-27a7-4da0-a689-d60c38795df6"
      },
      "source": [
        "!pip install atspy"
      ],
      "execution_count": 1,
      "outputs": [
        {
          "output_type": "stream",
          "text": [
            "Requirement already satisfied: atspy in /usr/local/lib/python3.6/dist-packages (0.2.8)\n",
            "Requirement already satisfied: tsfresh==0.14.1 in /usr/local/lib/python3.6/dist-packages (from atspy) (0.14.1)\n",
            "Requirement already satisfied: DateTime==4.3 in /usr/local/lib/python3.6/dist-packages (from atspy) (4.3)\n",
            "Requirement already satisfied: easydict==1.9 in /usr/local/lib/python3.6/dist-packages (from atspy) (1.9)\n",
            "Requirement already satisfied: numexpr==2.7.1 in /usr/local/lib/python3.6/dist-packages (from atspy) (2.7.1)\n",
            "Requirement already satisfied: tensorflow==1.15.0 in /usr/local/lib/python3.6/dist-packages (from atspy) (1.15.0)\n",
            "Requirement already satisfied: cachetools==4.0.0 in /usr/local/lib/python3.6/dist-packages (from atspy) (4.0.0)\n",
            "Requirement already satisfied: psycopg2==2.7.6.1 in /usr/local/lib/python3.6/dist-packages (from atspy) (2.7.6.1)\n",
            "Requirement already satisfied: numba==0.47.0 in /usr/local/lib/python3.6/dist-packages (from atspy) (0.47.0)\n",
            "Requirement already satisfied: gunicorn==20.0.4 in /usr/local/lib/python3.6/dist-packages (from atspy) (20.0.4)\n",
            "Requirement already satisfied: fbprophet==0.5 in /usr/local/lib/python3.6/dist-packages (from atspy) (0.5)\n",
            "Requirement already satisfied: torch==1.4.0 in /usr/local/lib/python3.6/dist-packages (from atspy) (1.4.0)\n",
            "Requirement already satisfied: scipy==1.4.1 in /usr/local/lib/python3.6/dist-packages (from atspy) (1.4.1)\n",
            "Requirement already satisfied: typing==3.6.6 in /usr/local/lib/python3.6/dist-packages (from atspy) (3.6.6)\n",
            "Requirement already satisfied: Cython==0.29.14 in /usr/local/lib/python3.6/dist-packages (from atspy) (0.29.14)\n",
            "Requirement already satisfied: pip-tools==4.2.0 in /usr/local/lib/python3.6/dist-packages (from atspy) (4.2.0)\n",
            "Requirement already satisfied: matplotlib==3.1.2 in /usr/local/lib/python3.6/dist-packages (from atspy) (3.1.2)\n",
            "Requirement already satisfied: pmdarima==1.5.2 in /usr/local/lib/python3.6/dist-packages (from atspy) (1.5.2)\n",
            "Requirement already satisfied: pandas==0.25.3 in /usr/local/lib/python3.6/dist-packages (from atspy) (0.25.3)\n",
            "Requirement already satisfied: seaborn==0.9.1 in /usr/local/lib/python3.6/dist-packages (from atspy) (0.9.1)\n",
            "Requirement already satisfied: sklearn==0.0 in /usr/local/lib/python3.6/dist-packages (from atspy) (0.0)\n",
            "Requirement already satisfied: numpy==1.17.4 in /usr/local/lib/python3.6/dist-packages (from atspy) (1.17.4)\n",
            "Requirement already satisfied: mxnet-cu100==1.4.1 in /usr/local/lib/python3.6/dist-packages (from atspy) (1.4.1)\n",
            "Requirement already satisfied: scikit-learn==0.22.1 in /usr/local/lib/python3.6/dist-packages (from atspy) (0.22.1)\n",
            "Requirement already satisfied: tweepy==3.6.0 in /usr/local/lib/python3.6/dist-packages (from atspy) (3.6.0)\n",
            "Requirement already satisfied: seasonal==0.3.1 in /usr/local/lib/python3.6/dist-packages (from atspy) (0.3.1)\n",
            "Requirement already satisfied: nbeats-pytorch==1.3.0 in /usr/local/lib/python3.6/dist-packages (from atspy) (1.3.0)\n",
            "Requirement already satisfied: pydantic==1.4 in /usr/local/lib/python3.6/dist-packages (from atspy) (1.4)\n",
            "Requirement already satisfied: dataclasses in /usr/local/lib/python3.6/dist-packages (from atspy) (0.7)\n",
            "Requirement already satisfied: tqdm==4.28.1 in /usr/local/lib/python3.6/dist-packages (from atspy) (4.28.1)\n",
            "Requirement already satisfied: psutil==5.4.8 in /usr/local/lib/python3.6/dist-packages (from atspy) (5.4.8)\n",
            "Requirement already satisfied: statsmodels==0.10.2 in /usr/local/lib/python3.6/dist-packages (from atspy) (0.10.2)\n",
            "Requirement already satisfied: xlrd==1.1.0 in /usr/local/lib/python3.6/dist-packages (from atspy) (1.1.0)\n",
            "Requirement already satisfied: tbats==1.0.9 in /usr/local/lib/python3.6/dist-packages (from atspy) (1.0.9)\n",
            "Requirement already satisfied: tblib==1.6.0 in /usr/local/lib/python3.6/dist-packages (from atspy) (1.6.0)\n",
            "Requirement already satisfied: tflearn==0.3.2 in /usr/local/lib/python3.6/dist-packages (from atspy) (0.3.2)\n",
            "Requirement already satisfied: gluonts==0.4.2 in /usr/local/lib/python3.6/dist-packages (from atspy) (0.4.2)\n",
            "Requirement already satisfied: lightgbm==2.2.3 in /usr/local/lib/python3.6/dist-packages (from atspy) (2.2.3)\n",
            "Requirement already satisfied: Keras==2.2.5 in /usr/local/lib/python3.6/dist-packages (from atspy) (2.2.5)\n",
            "Requirement already satisfied: typing-extensions==3.6.6 in /usr/local/lib/python3.6/dist-packages (from atspy) (3.6.6)\n",
            "Requirement already satisfied: sympy==1.1.1 in /usr/local/lib/python3.6/dist-packages (from atspy) (1.1.1)\n",
            "Requirement already satisfied: decorator==4.4.1 in /usr/local/lib/python3.6/dist-packages (from atspy) (4.4.1)\n",
            "Requirement already satisfied: patsy>=0.4.1 in /usr/local/lib/python3.6/dist-packages (from tsfresh==0.14.1->atspy) (0.5.1)\n",
            "Requirement already satisfied: dask[dataframe]>=0.15.2 in /usr/local/lib/python3.6/dist-packages (from tsfresh==0.14.1->atspy) (2.12.0)\n",
            "Requirement already satisfied: requests>=2.9.1 in /usr/local/lib/python3.6/dist-packages (from tsfresh==0.14.1->atspy) (2.23.0)\n",
            "Requirement already satisfied: distributed>=1.18.3 in /usr/local/lib/python3.6/dist-packages (from tsfresh==0.14.1->atspy) (1.25.3)\n",
            "Requirement already satisfied: zope.interface in /usr/local/lib/python3.6/dist-packages (from DateTime==4.3->atspy) (5.1.0)\n",
            "Requirement already satisfied: pytz in /usr/local/lib/python3.6/dist-packages (from DateTime==4.3->atspy) (2018.9)\n",
            "Requirement already satisfied: astor>=0.6.0 in /usr/local/lib/python3.6/dist-packages (from tensorflow==1.15.0->atspy) (0.8.1)\n",
            "Requirement already satisfied: wrapt>=1.11.1 in /usr/local/lib/python3.6/dist-packages (from tensorflow==1.15.0->atspy) (1.12.1)\n",
            "Requirement already satisfied: opt-einsum>=2.3.2 in /usr/local/lib/python3.6/dist-packages (from tensorflow==1.15.0->atspy) (3.2.1)\n",
            "Requirement already satisfied: tensorflow-estimator==1.15.1 in /usr/local/lib/python3.6/dist-packages (from tensorflow==1.15.0->atspy) (1.15.1)\n",
            "Requirement already satisfied: wheel>=0.26 in /usr/local/lib/python3.6/dist-packages (from tensorflow==1.15.0->atspy) (0.34.2)\n",
            "Requirement already satisfied: absl-py>=0.7.0 in /usr/local/lib/python3.6/dist-packages (from tensorflow==1.15.0->atspy) (0.9.0)\n",
            "Requirement already satisfied: six>=1.10.0 in /usr/local/lib/python3.6/dist-packages (from tensorflow==1.15.0->atspy) (1.12.0)\n",
            "Requirement already satisfied: keras-applications>=1.0.8 in /usr/local/lib/python3.6/dist-packages (from tensorflow==1.15.0->atspy) (1.0.8)\n",
            "Requirement already satisfied: protobuf>=3.6.1 in /usr/local/lib/python3.6/dist-packages (from tensorflow==1.15.0->atspy) (3.10.0)\n",
            "Requirement already satisfied: termcolor>=1.1.0 in /usr/local/lib/python3.6/dist-packages (from tensorflow==1.15.0->atspy) (1.1.0)\n",
            "Requirement already satisfied: google-pasta>=0.1.6 in /usr/local/lib/python3.6/dist-packages (from tensorflow==1.15.0->atspy) (0.2.0)\n",
            "Requirement already satisfied: keras-preprocessing>=1.0.5 in /usr/local/lib/python3.6/dist-packages (from tensorflow==1.15.0->atspy) (1.1.2)\n",
            "Requirement already satisfied: grpcio>=1.8.6 in /usr/local/lib/python3.6/dist-packages (from tensorflow==1.15.0->atspy) (1.29.0)\n",
            "Requirement already satisfied: tensorboard<1.16.0,>=1.15.0 in /usr/local/lib/python3.6/dist-packages (from tensorflow==1.15.0->atspy) (1.15.0)\n",
            "Requirement already satisfied: gast==0.2.2 in /usr/local/lib/python3.6/dist-packages (from tensorflow==1.15.0->atspy) (0.2.2)\n",
            "Requirement already satisfied: llvmlite>=0.31.0dev0 in /usr/local/lib/python3.6/dist-packages (from numba==0.47.0->atspy) (0.31.0)\n",
            "Requirement already satisfied: setuptools in /usr/local/lib/python3.6/dist-packages (from numba==0.47.0->atspy) (46.4.0)\n",
            "Requirement already satisfied: pystan>=2.14 in /usr/local/lib/python3.6/dist-packages (from fbprophet==0.5->atspy) (2.19.1.1)\n",
            "Requirement already satisfied: convertdate>=2.1.2 in /usr/local/lib/python3.6/dist-packages (from fbprophet==0.5->atspy) (2.2.1)\n",
            "Requirement already satisfied: setuptools-git>=1.2 in /usr/local/lib/python3.6/dist-packages (from fbprophet==0.5->atspy) (1.2)\n",
            "Requirement already satisfied: holidays>=0.9.5 in /usr/local/lib/python3.6/dist-packages (from fbprophet==0.5->atspy) (0.9.12)\n",
            "Requirement already satisfied: lunardate>=0.1.5 in /usr/local/lib/python3.6/dist-packages (from fbprophet==0.5->atspy) (0.2.0)\n",
            "Requirement already satisfied: click>=6 in /usr/local/lib/python3.6/dist-packages (from pip-tools==4.2.0->atspy) (7.1.2)\n",
            "Requirement already satisfied: python-dateutil>=2.1 in /usr/local/lib/python3.6/dist-packages (from matplotlib==3.1.2->atspy) (2.8.0)\n",
            "Requirement already satisfied: pyparsing!=2.0.4,!=2.1.2,!=2.1.6,>=2.0.1 in /usr/local/lib/python3.6/dist-packages (from matplotlib==3.1.2->atspy) (2.4.7)\n",
            "Requirement already satisfied: kiwisolver>=1.0.1 in /usr/local/lib/python3.6/dist-packages (from matplotlib==3.1.2->atspy) (1.2.0)\n",
            "Requirement already satisfied: cycler>=0.10 in /usr/local/lib/python3.6/dist-packages (from matplotlib==3.1.2->atspy) (0.10.0)\n",
            "Requirement already satisfied: joblib>=0.11 in /usr/local/lib/python3.6/dist-packages (from pmdarima==1.5.2->atspy) (0.15.1)\n",
            "Requirement already satisfied: graphviz<0.9.0,>=0.8.1 in /usr/local/lib/python3.6/dist-packages (from mxnet-cu100==1.4.1->atspy) (0.8.4)\n",
            "Requirement already satisfied: PySocks>=1.5.7 in /usr/local/lib/python3.6/dist-packages (from tweepy==3.6.0->atspy) (1.7.1)\n",
            "Requirement already satisfied: requests-oauthlib>=0.7.0 in /usr/local/lib/python3.6/dist-packages (from tweepy==3.6.0->atspy) (1.3.0)\n",
            "Requirement already satisfied: torchvision in /usr/local/lib/python3.6/dist-packages (from nbeats-pytorch==1.3.0->atspy) (0.6.0+cu101)\n",
            "Requirement already satisfied: Pillow in /usr/local/lib/python3.6/dist-packages (from tflearn==0.3.2->atspy) (7.0.0)\n",
            "Requirement already satisfied: boto3~=1.0 in /usr/local/lib/python3.6/dist-packages (from gluonts==0.4.2->atspy) (1.13.13)\n",
            "Requirement already satisfied: ujson~=1.35 in /usr/local/lib/python3.6/dist-packages (from gluonts==0.4.2->atspy) (1.35)\n",
            "Requirement already satisfied: h5py in /usr/local/lib/python3.6/dist-packages (from Keras==2.2.5->atspy) (2.10.0)\n",
            "Requirement already satisfied: pyyaml in /usr/local/lib/python3.6/dist-packages (from Keras==2.2.5->atspy) (3.13)\n",
            "Requirement already satisfied: mpmath>=0.19 in /usr/local/lib/python3.6/dist-packages (from sympy==1.1.1->atspy) (1.1.0)\n",
            "Requirement already satisfied: fsspec>=0.6.0; extra == \"dataframe\" in /usr/local/lib/python3.6/dist-packages (from dask[dataframe]>=0.15.2->tsfresh==0.14.1->atspy) (0.7.4)\n",
            "Requirement already satisfied: toolz>=0.7.3; extra == \"dataframe\" in /usr/local/lib/python3.6/dist-packages (from dask[dataframe]>=0.15.2->tsfresh==0.14.1->atspy) (0.10.0)\n",
            "Requirement already satisfied: partd>=0.3.10; extra == \"dataframe\" in /usr/local/lib/python3.6/dist-packages (from dask[dataframe]>=0.15.2->tsfresh==0.14.1->atspy) (1.1.0)\n",
            "Requirement already satisfied: urllib3!=1.25.0,!=1.25.1,<1.26,>=1.21.1 in /usr/local/lib/python3.6/dist-packages (from requests>=2.9.1->tsfresh==0.14.1->atspy) (1.24.3)\n",
            "Requirement already satisfied: certifi>=2017.4.17 in /usr/local/lib/python3.6/dist-packages (from requests>=2.9.1->tsfresh==0.14.1->atspy) (2020.4.5.1)\n",
            "Requirement already satisfied: idna<3,>=2.5 in /usr/local/lib/python3.6/dist-packages (from requests>=2.9.1->tsfresh==0.14.1->atspy) (2.9)\n",
            "Requirement already satisfied: chardet<4,>=3.0.2 in /usr/local/lib/python3.6/dist-packages (from requests>=2.9.1->tsfresh==0.14.1->atspy) (3.0.4)\n",
            "Requirement already satisfied: tornado>=4.5.1 in /usr/local/lib/python3.6/dist-packages (from distributed>=1.18.3->tsfresh==0.14.1->atspy) (4.5.3)\n",
            "Requirement already satisfied: msgpack in /usr/local/lib/python3.6/dist-packages (from distributed>=1.18.3->tsfresh==0.14.1->atspy) (1.0.0)\n",
            "Requirement already satisfied: cloudpickle>=0.2.2 in /usr/local/lib/python3.6/dist-packages (from distributed>=1.18.3->tsfresh==0.14.1->atspy) (1.3.0)\n",
            "Requirement already satisfied: sortedcontainers!=2.0.0,!=2.0.1 in /usr/local/lib/python3.6/dist-packages (from distributed>=1.18.3->tsfresh==0.14.1->atspy) (2.1.0)\n",
            "Requirement already satisfied: zict>=0.1.3 in /usr/local/lib/python3.6/dist-packages (from distributed>=1.18.3->tsfresh==0.14.1->atspy) (2.0.0)\n",
            "Requirement already satisfied: werkzeug>=0.11.15 in /usr/local/lib/python3.6/dist-packages (from tensorboard<1.16.0,>=1.15.0->tensorflow==1.15.0->atspy) (1.0.1)\n",
            "Requirement already satisfied: markdown>=2.6.8 in /usr/local/lib/python3.6/dist-packages (from tensorboard<1.16.0,>=1.15.0->tensorflow==1.15.0->atspy) (3.2.2)\n",
            "Requirement already satisfied: pymeeus<=1,>=0.3.6 in /usr/local/lib/python3.6/dist-packages (from convertdate>=2.1.2->fbprophet==0.5->atspy) (0.3.7)\n",
            "Requirement already satisfied: oauthlib>=3.0.0 in /usr/local/lib/python3.6/dist-packages (from requests-oauthlib>=0.7.0->tweepy==3.6.0->atspy) (3.1.0)\n",
            "Requirement already satisfied: jmespath<1.0.0,>=0.7.1 in /usr/local/lib/python3.6/dist-packages (from boto3~=1.0->gluonts==0.4.2->atspy) (0.10.0)\n",
            "Requirement already satisfied: s3transfer<0.4.0,>=0.3.0 in /usr/local/lib/python3.6/dist-packages (from boto3~=1.0->gluonts==0.4.2->atspy) (0.3.3)\n",
            "Requirement already satisfied: botocore<1.17.0,>=1.16.13 in /usr/local/lib/python3.6/dist-packages (from boto3~=1.0->gluonts==0.4.2->atspy) (1.16.13)\n",
            "Requirement already satisfied: locket in /usr/local/lib/python3.6/dist-packages (from partd>=0.3.10; extra == \"dataframe\"->dask[dataframe]>=0.15.2->tsfresh==0.14.1->atspy) (0.2.0)\n",
            "Requirement already satisfied: heapdict in /usr/local/lib/python3.6/dist-packages (from zict>=0.1.3->distributed>=1.18.3->tsfresh==0.14.1->atspy) (1.0.1)\n",
            "Requirement already satisfied: importlib-metadata; python_version < \"3.8\" in /usr/local/lib/python3.6/dist-packages (from markdown>=2.6.8->tensorboard<1.16.0,>=1.15.0->tensorflow==1.15.0->atspy) (1.6.0)\n",
            "Requirement already satisfied: docutils<0.16,>=0.10 in /usr/local/lib/python3.6/dist-packages (from botocore<1.17.0,>=1.16.13->boto3~=1.0->gluonts==0.4.2->atspy) (0.15.2)\n",
            "Requirement already satisfied: zipp>=0.5 in /usr/local/lib/python3.6/dist-packages (from importlib-metadata; python_version < \"3.8\"->markdown>=2.6.8->tensorboard<1.16.0,>=1.15.0->tensorflow==1.15.0->atspy) (3.1.0)\n"
          ],
          "name": "stdout"
        }
      ]
    },
    {
      "cell_type": "code",
      "metadata": {
        "id": "dDhTYsdPo-R7",
        "colab_type": "code",
        "colab": {
          "base_uri": "https://localhost:8080/",
          "height": 225
        },
        "outputId": "d63e8a93-3d58-44d5-b68c-2dd5eaae90c2"
      },
      "source": [
        "import pandas as pd\n",
        "df = pd.read_csv(\"https://raw.githubusercontent.com/firmai/random-assets-two/master/ts/monthly-beer-australia.csv\")\n",
        "df.Month = pd.to_datetime(df.Month)\n",
        "df = df.set_index(\"Month\")\n",
        "df.head()"
      ],
      "execution_count": 2,
      "outputs": [
        {
          "output_type": "execute_result",
          "data": {
            "text/html": [
              "<div>\n",
              "<style scoped>\n",
              "    .dataframe tbody tr th:only-of-type {\n",
              "        vertical-align: middle;\n",
              "    }\n",
              "\n",
              "    .dataframe tbody tr th {\n",
              "        vertical-align: top;\n",
              "    }\n",
              "\n",
              "    .dataframe thead th {\n",
              "        text-align: right;\n",
              "    }\n",
              "</style>\n",
              "<table border=\"1\" class=\"dataframe\">\n",
              "  <thead>\n",
              "    <tr style=\"text-align: right;\">\n",
              "      <th></th>\n",
              "      <th>Megaliters</th>\n",
              "    </tr>\n",
              "    <tr>\n",
              "      <th>Month</th>\n",
              "      <th></th>\n",
              "    </tr>\n",
              "  </thead>\n",
              "  <tbody>\n",
              "    <tr>\n",
              "      <th>1956-01-01</th>\n",
              "      <td>93.2</td>\n",
              "    </tr>\n",
              "    <tr>\n",
              "      <th>1956-02-01</th>\n",
              "      <td>96.0</td>\n",
              "    </tr>\n",
              "    <tr>\n",
              "      <th>1956-03-01</th>\n",
              "      <td>95.2</td>\n",
              "    </tr>\n",
              "    <tr>\n",
              "      <th>1956-04-01</th>\n",
              "      <td>77.1</td>\n",
              "    </tr>\n",
              "    <tr>\n",
              "      <th>1956-05-01</th>\n",
              "      <td>70.9</td>\n",
              "    </tr>\n",
              "  </tbody>\n",
              "</table>\n",
              "</div>"
            ],
            "text/plain": [
              "            Megaliters\n",
              "Month                 \n",
              "1956-01-01        93.2\n",
              "1956-02-01        96.0\n",
              "1956-03-01        95.2\n",
              "1956-04-01        77.1\n",
              "1956-05-01        70.9"
            ]
          },
          "metadata": {
            "tags": []
          },
          "execution_count": 2
        }
      ]
    },
    {
      "cell_type": "code",
      "metadata": {
        "id": "29m6_LvVpDpj",
        "colab_type": "code",
        "colab": {
          "base_uri": "https://localhost:8080/",
          "height": 34
        },
        "outputId": "38c44b64-92a6-4fbf-86de-4319010a48f3"
      },
      "source": [
        "from atspy import AutomatedModel"
      ],
      "execution_count": 3,
      "outputs": [
        {
          "output_type": "stream",
          "text": [
            "INFO:root:Using CPU\n"
          ],
          "name": "stderr"
        }
      ]
    },
    {
      "cell_type": "code",
      "metadata": {
        "id": "eYIjzEZ6pYOe",
        "colab_type": "code",
        "colab": {}
      },
      "source": [
        "model_list=[\"HWAMS\",\"HWAAS\",\"TBAT\"]"
      ],
      "execution_count": 0,
      "outputs": []
    },
    {
      "cell_type": "code",
      "metadata": {
        "id": "jX17KYYi5ygL",
        "colab_type": "code",
        "colab": {
          "base_uri": "https://localhost:8080/",
          "height": 487
        },
        "outputId": "2a010019-937a-4582-cf3d-fbd6d8ddfad4"
      },
      "source": [
        "am = AutomatedModel(df = df , model_list=model_list, season=\"infer_from_data\",forecast_len=60 )\n",
        "forecast_in, performance = am.forecast_insample()\n",
        "forecast_out = am.forecast_outsample()\n",
        "all_ensemble_in, all_ensemble_out, all_performance = am.ensemble(forecast_in, forecast_out)"
      ],
      "execution_count": 5,
      "outputs": [
        {
          "output_type": "stream",
          "text": [
            "<class 'pandas.core.frame.DataFrame'>\n",
            "The data has been successfully parsed by infering a frequency, and establishing a 'Date' index and 'Target' column.\n",
            "357\n",
            "An insample split of training size 357 and testing size 119 has been constructed\n",
            "Model HWAMS is being trained for in sample prediction\n",
            "Model HWAAS is being trained for in sample prediction\n",
            "Model TBAT is being trained for in sample prediction\n",
            "Model HWAMS is being used to forcast in sample\n",
            "Model HWAAS is being used to forcast in sample\n",
            "Model TBAT is being used to forcast in sample\n",
            "Successfully finished in sample forecast\n",
            "<class 'pandas.core.frame.DataFrame'>\n",
            "The data has been successfully parsed by infering a frequency, and establishing a 'Date' index and 'Target' column.\n",
            "Model HWAMS is being trained for out of sample prediction\n",
            "Model HWAAS is being trained for out of sample prediction\n",
            "Model TBAT is being trained for out of sample prediction\n",
            "Model HWAMS is being used to forcast out of sample\n",
            "Model HWAAS is being used to forcast out of sample\n",
            "Model TBAT is being used to forcast out of sample\n",
            "Successfully finished out of sample forecast\n",
            "Building LightGBM Ensemble from TS data (ensemble_lgb)\n",
            "Building LightGBM Ensemble from PCA reduced TSFresh Features (ensemble_ts). This can take a long time.\n",
            "LightGBM ensemble have been successfully built\n"
          ],
          "name": "stdout"
        },
        {
          "output_type": "stream",
          "text": [
            "INFO:numexpr.utils:NumExpr defaulting to 2 threads.\n"
          ],
          "name": "stderr"
        },
        {
          "output_type": "stream",
          "text": [
            "305  variables are found to be almost constant\n",
            "LightGBM ensemble have been successfully built\n",
            "Building Standard First Level Ensemble\n",
            "Building Final Multi-level Ensemble\n"
          ],
          "name": "stdout"
        }
      ]
    },
    {
      "cell_type": "code",
      "metadata": {
        "id": "ZNtq8i349a_o",
        "colab_type": "code",
        "colab": {}
      },
      "source": [
        ""
      ],
      "execution_count": 0,
      "outputs": []
    }
  ]
}